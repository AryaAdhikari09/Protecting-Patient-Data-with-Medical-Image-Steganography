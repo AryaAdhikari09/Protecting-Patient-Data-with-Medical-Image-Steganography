{
  "cells": [
    {
      "cell_type": "markdown",
      "metadata": {
        "colab_type": "text",
        "id": "view-in-github"
      },
      "source": [
        "<a href=\"https://colab.research.google.com/github/sheki018/mini-project/blob/main/MiniProjectFinal.ipynb\" target=\"_parent\"><img src=\"https://colab.research.google.com/assets/colab-badge.svg\" alt=\"Open In Colab\"/></a>"
      ]
    },
    {
      "cell_type": "markdown",
      "metadata": {
        "id": "Kl6RZKWPfBKd"
      },
      "source": [
        "## **INSTALL AND IMPORT MODULES**"
      ]
    },
    {
      "cell_type": "code",
      "execution_count": 77,
      "metadata": {
        "id": "7H_JI4WONVkZ"
      },
      "outputs": [],
      "source": [
        "from hashlib import sha256\n",
        "import base64\n",
        "from Crypto import Random\n",
        "from Crypto.Cipher import AES\n",
        "import pandas as pd\n",
        "from cryptography.hazmat.backends import default_backend\n",
        "from cryptography.hazmat.primitives.asymmetric import rsa\n",
        "from cryptography.hazmat.primitives import serialization\n",
        "from cryptography.hazmat.primitives.serialization import load_pem_private_key\n",
        "from cryptography.hazmat.primitives.serialization import load_pem_public_key\n",
        "from cryptography.hazmat.primitives.asymmetric import rsa\n",
        "from cryptography.hazmat.primitives.asymmetric import padding\n",
        "from cryptography.exceptions import InvalidSignature\n",
        "from cryptography.hazmat.primitives import serialization, hashes\n",
        "from Crypto.Cipher import DES\n",
        "from Crypto import Random\n",
        "import base64"
      ]
    },
    {
      "cell_type": "markdown",
      "metadata": {
        "id": "36ybphOYe8P9"
      },
      "source": [
        "## **KEY GENERATION**"
      ]
    },
    {
      "cell_type": "code",
      "execution_count": 78,
      "metadata": {
        "colab": {
          "base_uri": "https://localhost:8080/"
        },
        "id": "TGiJa9dPNhor",
        "outputId": "88496194-2296-4a43-e0b8-2566b2e22996"
      },
      "outputs": [
        {
          "name": "stdout",
          "output_type": "stream",
          "text": [
            "private key and public key generated.\n"
          ]
        }
      ],
      "source": [
        "def gen_key():\n",
        "    private_key = rsa.generate_private_key(\n",
        "        public_exponent=65537, key_size=2048, backend=default_backend())\n",
        "    \n",
        "    public_key = private_key.public_key()\n",
        "    return private_key, public_key\n",
        "\n",
        "\n",
        "def save_pvkey(pk, filename):\n",
        "    pem = pk.private_bytes(\n",
        "        encoding=serialization.Encoding.PEM,\n",
        "        format=serialization.PrivateFormat.TraditionalOpenSSL,\n",
        "        encryption_algorithm=serialization.NoEncryption()\n",
        "    )\n",
        "    with open(filename, 'wb') as pem_out:\n",
        "        pem_out.write(pem)\n",
        "        \n",
        "def save_pukey(pk, filename):        \n",
        "    pem = public_key.public_bytes(\n",
        "    encoding=serialization.Encoding.PEM,\n",
        "    format=serialization.PublicFormat.SubjectPublicKeyInfo\n",
        "    )\n",
        "    with open(filename, 'wb') as pem_out:\n",
        "        pem_out.write(pem)\n",
        "\n",
        "private_key, public_key = gen_key()\n",
        "\n",
        "save_pvkey(private_key, 'aes_private_key')\n",
        "save_pvkey(private_key, 'des_private_key')\n",
        "save_pukey(public_key, 'aes_public_key')\n",
        "save_pukey(public_key, 'des_public_key')\n",
        "print(\"private key and public key generated.\")"
      ]
    },
    {
      "cell_type": "markdown",
      "metadata": {
        "id": "JJXtkvsle2YF"
      },
      "source": [
        "## **SENDER END**"
      ]
    },
    {
      "cell_type": "code",
      "execution_count": 79,
      "metadata": {
        "id": "njnObyesOoSY"
      },
      "outputs": [],
      "source": [
        "from hashlib import sha256\n",
        "import base64\n",
        "from Crypto import Random\n",
        "from Crypto.Cipher import AES\n",
        "import pandas as pd\n",
        "from cryptography.hazmat.primitives.serialization import load_pem_private_key\n",
        "from cryptography.hazmat.primitives.serialization import load_pem_public_key\n",
        "from cryptography.hazmat.backends import default_backend\n",
        "from cryptography.hazmat.primitives.asymmetric import rsa\n",
        "from cryptography.exceptions import InvalidSignature\n",
        "from cryptography.hazmat.primitives import serialization, hashes\n",
        "from cryptography.hazmat.primitives.asymmetric import padding\n",
        "from PIL import Image\n",
        "import stepic\n",
        "from Crypto.Cipher import DES\n",
        "from Crypto import Random\n",
        "import base64"
      ]
    },
    {
      "cell_type": "markdown",
      "metadata": {
        "id": "glTPEKsFfTef"
      },
      "source": [
        "# **DNA CRYPTO**"
      ]
    },
    {
      "cell_type": "code",
      "execution_count": 80,
      "metadata": {
        "colab": {
          "base_uri": "https://localhost:8080/"
        },
        "id": "-gN5bCXAVg_j",
        "outputId": "4b4d726d-3c6d-45db-a10e-183031cba57e"
      },
      "outputs": [
        {
          "name": "stdout",
          "output_type": "stream",
          "text": [
            "TCTCGATCCGGCACCGCTACCTTTGGCGGATCATTTGGCACCTCCGGCTCTTTGGGCACGTCGACCTTTGGCTCTTTGGGCTCAACCGCTACCTCCCGATGCGGCTCGACCCCAATGTCATTCCGCTTGCGATTCGGCACCGCTACCAGAGATGCGGATTAGGCGGCGAGATCGACCACGACGTCTACCGCTACCTAGAGATTAAGAACAAGGGCAGAGGCGGCAGCGTCGACCTCCGGCTTGATGGTTCGATGCACCCGCATGACGTTCGGATCAAAAACCGCTACCTTGATGCGACCAGGCTTCGGCACGTCGACCTTGATGCGATTTTCTGGAACGATGACGACCGCTACCCCATCAGGAAAGGGCTCTACCCGATCATCC\n"
          ]
        }
      ],
      "source": [
        "DNA_data = { \"words\":[\"A\",\"B\",\"C\",\"D\",\"E\",\"F\",\"G\",\"H\",\"I\",\"J\",\"K\",\"L\",\"M\",\"N\",\"O\",\"P\",\"Q\",\"R\",\"S\",\"T\",\"U\",\"V\",\"W\",\n",
        "                   \"X\",\"Y\",\"Z\",\" \",\",\",\".\",\":\",\"0\",\"1\",\"2\",\"3\",\"4\",\"5\",\"6\",\"7\",\"8\",\"9\"],\n",
        "            \"DNA_code\": [\"CGA\",\"CCA\",\"GTT\",\"TTG\",\"GGC\",\"GGT\",\"TTT\",\"CGC\",\"ATG\",\"AGT\",\"AAG\",\"TGC\",\"TCC\",\"TCT\",\"GGA\",\"GTG\",\n",
        "                         \"AAC\",\"TCA\",\"ACG\",\"TTC\",\"CTG\",\"CCT\",\"CCG\",\"CTA\",\"AAA\",\"CTT\",\"ACC\",\"TCG\",\"GAT\",\"GCT\",\"ACT\",\"TAG\",\n",
        "                         \"ATA\",\"GCA\",\"GAG\",\"AGA\",\"TTA\",\"ACA\",\"AGG\",\"GCG\"]\n",
        "           }\n",
        "\n",
        "DNA_df = pd.DataFrame.from_dict(DNA_data)\n",
        "#print(DNA_df)\n",
        "\n",
        "message = input(\"Please enter your message: \")\n",
        "\n",
        "#Name : George Mendes, Gender : Male, Birthdate : 5.9.1995, SSN : 15657834939, Medical History : Diabetes, Diagnosis : broken arm\n",
        "DNA_crypto_message = \"\"\n",
        "word = message.upper()\n",
        "\n",
        "\n",
        "for i in word:\n",
        "    DNA_crypto_message+= str(DNA_df.loc[ DNA_df['words'] == i , 'DNA_code' ].iloc[0])\n",
        "    \n",
        "print(DNA_crypto_message)"
      ]
    },
    {
      "cell_type": "markdown",
      "metadata": {
        "id": "8nqytlxCfesM"
      },
      "source": [
        "# **AES CRYPTO**"
      ]
    },
    {
      "cell_type": "code",
      "execution_count": 81,
      "metadata": {
        "colab": {
          "base_uri": "https://localhost:8080/"
        },
        "id": "JyL5FZV7VrfM",
        "outputId": "a219fef0-29de-474a-8eba-917521d17140"
      },
      "outputs": [
        {
          "name": "stdout",
          "output_type": "stream",
          "text": [
            "b'FcRaopIj1ltsvubmnZMeGgwwqPJvcnjmjXZs4HHpqSd1DzWCcY5WbAR79OLAAFIzV710FcuQYiAj+nIfsqCKNXbkWCOv71RQjaRv5rh1qngTbiORnUlbtYrkF4StovU2tvKP07VsUObc29whAHw9HSVxSReE1ieOSZQItGXtvgYmgLK28Vaj13+nCg1frYVejN0dAAxCg4JBvCX0Vc9hraaXONgbDsmjY7xJBpI5vhzFv0lSYhv+CnM7B/H9naTX2WirMomAF4S06TO4Quq26XjesVxoV5zAtkjEK3O2vhPlFruA/xOQ8rt+5gakx93EMnCuGqQMagyl+6ub3/QCnCI0b0hVp1e2uAnZayf4cgkpYBUUs5H8FQsrt7TykDTEeSfrgJLYg3jkyjwFH08ywmZOPbKCZX/nfMGB76Rko+eBgmtBu9Q/u2rY9/AOgMb69BDLzYjrFt7V6a9T2dPZNWKKwwXWi3mjbWau+c5dNlMzfBLf3FeVsIaxOZ004eMD5fTN1Wy5HgPDSDUsHh4hIqsOXfZ79y3yzaMqEvgshVk='\n"
          ]
        }
      ],
      "source": [
        "helloo = message\n",
        "\n",
        "#block size =16\n",
        "#AES-128\n",
        "BS = 16\n",
        "#data should be a multiple of 16 bytes n length. Pad the buffer if it is not and include the size of the data at the beginning of the output.\n",
        "pad = lambda s: bytes(s + (BS - len(s) % BS) * chr(BS - len(s) % BS), 'utf-8')\n",
        "unpad = lambda s : s[0:-ord(s[-1:])]\n",
        "\n",
        "class AESCipher:\n",
        "\n",
        "    def __init__( self, key ):\n",
        "        #generate key\n",
        "        self.key = bytes(key, 'utf-8')\n",
        "\n",
        "    def encrypt( self, raw ):\n",
        "        raw = pad(raw)\n",
        "        #initialization vector - 16 bytes\n",
        "        iv = Random.new().read( AES.block_size )\n",
        "        #MODE_CBC - cipher-block chaining - each plaintext block gets XOR-ed with the previous ciphertext prior to encryption\n",
        "        cipher = AES.new(self.key, AES.MODE_CBC, iv )\n",
        "        return base64.b64encode( iv + cipher.encrypt( raw ) )\n",
        "\n",
        "cipher = AESCipher('LKHlhb899Y09olUi')\n",
        "AES_encrypted_message = cipher.encrypt(DNA_crypto_message)\n",
        "\n",
        "print(AES_encrypted_message)"
      ]
    },
    {
      "cell_type": "markdown",
      "metadata": {},
      "source": [
        "# **DES CRYPTO**"
      ]
    },
    {
      "cell_type": "code",
      "execution_count": 82,
      "metadata": {},
      "outputs": [
        {
          "name": "stdout",
          "output_type": "stream",
          "text": [
            "Name : George Mendes, Gender : Male, Birthdate : 5.9.1995, SSN : 15657834939, Medical History : Diabetes, Diagnosis : broken arm\n",
            "hhVkLfNKgAq9DtLmwUUjsqrfD0W9PvcvYeGZicyR9rAl9PvcNt79Nw==\n"
          ]
        }
      ],
      "source": [
        "# Block size for DES is 8 bytes\n",
        "BS = 8\n",
        "print(helloo)\n",
        "\n",
        "# Data should be a multiple of 8 bytes in length. Pad the buffer if it is not and include the size of the data at the beginning of the output.\n",
        "pad = lambda s: bytes(s + (BS - len(s) % BS) * chr(BS - len(s) % BS), 'utf-8')\n",
        "unpad = lambda s: s[0:-ord(s[-1:])]\n",
        "\n",
        "class DESCipher:\n",
        "\n",
        "    def __init__(self, key):\n",
        "        # Generate key\n",
        "        self.key = bytes(key, 'utf-8')\n",
        "\n",
        "    def encrypt(self, raw):\n",
        "        raw = pad(raw)\n",
        "        # Initialization vector - 8 bytes\n",
        "        iv = Random.new().read(BS)\n",
        "        # MODE_CBC - cipher-block chaining - each plaintext block gets XOR-ed with the previous ciphertext prior to encryption\n",
        "        cipher = DES.new(self.key, DES.MODE_CBC, iv)\n",
        "        return base64.b64encode(iv + cipher.encrypt(raw))\n",
        "\n",
        "# Assuming DNA_crypto_message is defined somewhere above this\n",
        "DNA_crypto_message = \"Your DNA crypto message here\"\n",
        "\n",
        "cipher = DESCipher('LKHlhb89')  # DES key should be 8 bytes\n",
        "DES_encrypted_message = cipher.encrypt(DNA_crypto_message)\n",
        "\n",
        "print(DES_encrypted_message.decode('utf-8'))\n"
      ]
    },
    {
      "cell_type": "markdown",
      "metadata": {
        "id": "6zNdrE8SflPN"
      },
      "source": [
        "# **AES DIGITAL SIGNATURE**"
      ]
    },
    {
      "cell_type": "code",
      "execution_count": 83,
      "metadata": {
        "id": "6Qo1miM8VvIQ"
      },
      "outputs": [],
      "source": [
        "def load_pvkey(filename):\n",
        "    with open(filename, 'rb') as pem_in:\n",
        "        pemlines = pem_in.read()\n",
        "        \n",
        "    private_key = load_pem_private_key(pemlines, None, default_backend())\n",
        "    return private_key\n",
        "\n",
        "message = AES_encrypted_message\n",
        "aes_private_key = load_pvkey(\"aes_private_key\")\n",
        "aes_signature = private_key.sign(message, padding.PSS(mgf=padding.MGF1(hashes.SHA256()),\n",
        "                                                  salt_length=padding.PSS.MAX_LENGTH),hashes.SHA256())\n",
        "# signature"
      ]
    },
    {
      "cell_type": "markdown",
      "metadata": {},
      "source": [
        "# **DES DIGITAL SIGNATURE**"
      ]
    },
    {
      "cell_type": "code",
      "execution_count": 84,
      "metadata": {},
      "outputs": [],
      "source": [
        "def load_pvkey(filename):\n",
        "    with open(filename, 'rb') as pem_in:\n",
        "        pemlines = pem_in.read()\n",
        "        \n",
        "    private_key = load_pem_private_key(pemlines, None, default_backend())\n",
        "    return private_key\n",
        "\n",
        "message = DES_encrypted_message\n",
        "des_private_key = load_pvkey(\"des_private_key\")\n",
        "des_signature = private_key.sign(message, padding.PSS(mgf=padding.MGF1(hashes.SHA256()),\n",
        "                                                  salt_length=padding.PSS.MAX_LENGTH),hashes.SHA256())\n",
        "# signature"
      ]
    },
    {
      "cell_type": "markdown",
      "metadata": {
        "id": "8wnFNbxCfpKo"
      },
      "source": [
        "# **AES SECRET MESSAGE GENERATION**"
      ]
    },
    {
      "cell_type": "code",
      "execution_count": 85,
      "metadata": {
        "id": "KaaVFUX1Vx6R"
      },
      "outputs": [],
      "source": [
        "im = Image.open('original_image.jpg')\n",
        "#Encode some text into your Image file and save it in another file\n",
        "AES_secret_msg = AES_encrypted_message + bytes(\"SIGNATURE\", 'utf-8') + aes_signature\n"
      ]
    },
    {
      "cell_type": "markdown",
      "metadata": {},
      "source": [
        "# **DES SECRET MESSAGE GENERATION**"
      ]
    },
    {
      "cell_type": "code",
      "execution_count": 86,
      "metadata": {},
      "outputs": [],
      "source": [
        "im = Image.open('original_image.jpg')\n",
        "#Encode some text into your Image file and save it in another file\n",
        "DES_secret_msg = DES_encrypted_message + bytes(\"SIGNATURE\", 'utf-8') + des_signature\n"
      ]
    },
    {
      "cell_type": "markdown",
      "metadata": {
        "id": "bLvR95zUfv02"
      },
      "source": [
        "# **LSB STEGANOGRAPHY**"
      ]
    },
    {
      "cell_type": "code",
      "execution_count": 87,
      "metadata": {
        "id": "15wFPnyyeBeG"
      },
      "outputs": [],
      "source": [
        "im1 = stepic.encode(im, AES_secret_msg)\n",
        "im1.save('aes_encoded_image.png', 'PNG')"
      ]
    },
    {
      "cell_type": "code",
      "execution_count": 88,
      "metadata": {},
      "outputs": [],
      "source": [
        "im1 = stepic.encode(im, DES_secret_msg)\n",
        "im1.save('des_encoded_image.png', 'PNG')"
      ]
    },
    {
      "cell_type": "code",
      "execution_count": 89,
      "metadata": {
        "colab": {
          "base_uri": "https://localhost:8080/"
        },
        "id": "JJLuj9VpNqbb",
        "outputId": "442af230-3425-4650-f607-c3b8cd464606"
      },
      "outputs": [
        {
          "name": "stdout",
          "output_type": "stream",
          "text": [
            "MSE value - aes:  0.00102294921875 dB\n",
            "PSNR value - aes:  78.03226285869388 dB\n"
          ]
        }
      ],
      "source": [
        "import cv2\n",
        "import numpy as np\n",
        "from math import log10,sqrt\n",
        "def PSNR(original, steg): \n",
        "    mse = np.mean((original - steg) ** 2) \n",
        "    if(mse == 0): \n",
        "        return 100\n",
        "    max_pixel = 255.0\n",
        "    psnr = 20 * log10(max_pixel / sqrt(mse)) \n",
        "    return psnr \n",
        "\n",
        "\n",
        "original=cv2.imread(\"original_image.jpg\")\n",
        "steg=cv2.imread(\"aes_encoded_image.png\")  \n",
        "aes_mse_value_orignal=np.mean((original - steg) ** 2)\n",
        "aes_psnr_value_orignal = PSNR(original,steg)\n",
        "print(f\"MSE value - aes:  {aes_mse_value_orignal} dB\")\n",
        "print(f\"PSNR value - aes:  {aes_psnr_value_orignal} dB\")"
      ]
    },
    {
      "cell_type": "code",
      "execution_count": 90,
      "metadata": {},
      "outputs": [
        {
          "name": "stdout",
          "output_type": "stream",
          "text": [
            "MSE value - des:  0.00039279513888888887 dB\n",
            "PSNR value - des:  82.18914256413882 dB\n"
          ]
        }
      ],
      "source": [
        "import cv2\n",
        "import numpy as np\n",
        "from math import log10,sqrt\n",
        "def PSNR(original, steg): \n",
        "    mse = np.mean((original - steg) ** 2) \n",
        "    if(mse == 0): \n",
        "        return 100\n",
        "    max_pixel = 255.0\n",
        "    psnr = 20 * log10(max_pixel / sqrt(mse)) \n",
        "    return psnr \n",
        "\n",
        "\n",
        "original=cv2.imread(\"original_image.jpg\")\n",
        "steg=cv2.imread(\"des_encoded_image.png\")  \n",
        "des_mse_value_orignal=np.mean((original - steg) ** 2)\n",
        "des_psnr_value_orignal = PSNR(original,steg)\n",
        "print(f\"MSE value - des:  {des_mse_value_orignal} dB\")\n",
        "print(f\"PSNR value - des:  {des_psnr_value_orignal} dB\")"
      ]
    },
    {
      "cell_type": "markdown",
      "metadata": {
        "id": "qUWCIdswJCNO"
      },
      "source": [
        "# **IMAGE COMPRESSION**"
      ]
    },
    {
      "cell_type": "code",
      "execution_count": 91,
      "metadata": {
        "colab": {
          "base_uri": "https://localhost:8080/",
          "height": 486
        },
        "id": "H171B9bKqR4R",
        "outputId": "a098d5d9-49e1-41e5-c879-cea03bf16a2b"
      },
      "outputs": [
        {
          "name": "stdout",
          "output_type": "stream",
          "text": [
            "Image compressed at 36.00%\n",
            "Image compressed at 36.00%\n",
            "Image compressed at 37.00%\n",
            "Image compressed at 37.00%\n",
            "Image compressed at 38.00%\n",
            "Image compressed at 38.00%\n",
            "Image compressed at 39.00%\n",
            "Image compressed at 40.00%\n",
            "Image compressed at 40.00%\n",
            "Image compressed at 41.00%\n"
          ]
        },
        {
          "data": {
            "image/png": "[encoded data removed]",
            "text/plain": [
              "<Figure size 640x480 with 1 Axes>"
            ]
          },
          "metadata": {},
          "output_type": "display_data"
        },
        {
          "name": "stdout",
          "output_type": "stream",
          "text": [
            "The average time is 0.0\n"
          ]
        }
      ],
      "source": [
        "import sys\n",
        "import os\n",
        "import time\n",
        "import numpy as np\n",
        "import cv2\n",
        "import matplotlib.pyplot as plt\n",
        "from PIL import Image\n",
        "from scipy.signal import convolve2d\n",
        "\n",
        "def wavelet_transform(data, threshold):\n",
        "    # Haar wavelet filter\n",
        "    h = (1/np.sqrt(2)) * np.array([1, 1])\n",
        "\n",
        "    # Decompose image into approximation and details\n",
        "    cA2 = convolve2d(data, h[:, None], mode='same')\n",
        "    cD2 = convolve2d(data, h[None, :], mode='same')\n",
        "    cD2 = convolve2d(cD2, h[:, None], mode='same')\n",
        "    cD1 = convolve2d(cD2, h[None, :], mode='same')\n",
        "\n",
        "    # Thresholding\n",
        "    cD1_thresh = np.where(np.abs(cD1) < threshold, 0, cD1)\n",
        "\n",
        "    # Reconstruct image\n",
        "    values = cA2 + cD1_thresh\n",
        "    return values\n",
        "\n",
        "def create_image(image, values, threshold):\n",
        "    width, height = image.size\n",
        "    new_image = Image.fromarray(values.astype('uint8'))\n",
        "    image_name = 'aes' + str(threshold) + '.png'\n",
        "    new_image.save(image_name)\n",
        "    return new_image\n",
        "\n",
        "def grayscale(image):\n",
        "    return image.convert('L')\n",
        "\n",
        "def compress(image_path, threshold):\n",
        "    image = Image.open(image_path).convert('RGB')\n",
        "    image = grayscale(image)\n",
        "    data = np.array(image)\n",
        "    values = wavelet_transform(data, threshold)\n",
        "    new_image = create_image(image, values, threshold)\n",
        "    return compressed_percentage(image_path, threshold)\n",
        "\n",
        "def compressed_percentage(image_path, threshold):\n",
        "    original_size = os.path.getsize(image_path)\n",
        "    image_name = 'aes' + str(threshold) + '.png'\n",
        "    final_size = os.path.getsize(image_name)\n",
        "    percentage = 100 - (final_size * 100) // float(original_size)\n",
        "    print('Image compressed at %0.2f%%' % percentage)\n",
        "    return percentage\n",
        "\n",
        "def main():\n",
        "    image_path = \"aes_encoded_image.png\"\n",
        "    time_list = []\n",
        "    percentages_list = []\n",
        "    thresholds_list = list(range(0, 200, 20))\n",
        "\n",
        "    for threshold in thresholds_list:\n",
        "        start_time = time.time()\n",
        "        compressed_percentage_val = compress(image_path, threshold)\n",
        "        end_time = time.time()\n",
        "        process_time = end_time - start_time\n",
        "        time_list.append(process_time)\n",
        "        percentages_list.append(compressed_percentage_val)\n",
        "\n",
        "    plt.plot(thresholds_list, percentages_list, 'bo-', label='Percentage')\n",
        "    plt.legend(loc='upper left', numpoints=1)\n",
        "    plt.ylabel('Percentage')\n",
        "    plt.xlabel('Threshold value')\n",
        "    plt.title('Percentage vs. Threshold value')\n",
        "    plt.show()\n",
        "\n",
        "    average_time = sum(time_list) // len(time_list)\n",
        "    print('The average time is', average_time)\n",
        "\n",
        "if __name__ == '__main__':\n",
        "    main()\n"
      ]
    },
    {
      "cell_type": "code",
      "execution_count": 92,
      "metadata": {},
      "outputs": [
        {
          "name": "stdout",
          "output_type": "stream",
          "text": [
            "Image compressed at 36.00%\n",
            "Image compressed at 36.00%\n",
            "Image compressed at 37.00%\n",
            "Image compressed at 37.00%\n",
            "Image compressed at 38.00%\n",
            "Image compressed at 38.00%\n",
            "Image compressed at 39.00%\n",
            "Image compressed at 40.00%\n",
            "Image compressed at 40.00%\n",
            "Image compressed at 41.00%\n"
          ]
        },
        {
          "data": {
            "image/png": "[encoded data removed]",
            "text/plain": [
              "<Figure size 640x480 with 1 Axes>"
            ]
          },
          "metadata": {},
          "output_type": "display_data"
        },
        {
          "name": "stdout",
          "output_type": "stream",
          "text": [
            "The average time is 0.0\n"
          ]
        }
      ],
      "source": [
        "import sys\n",
        "import os\n",
        "import time\n",
        "import numpy as np\n",
        "import cv2\n",
        "import matplotlib.pyplot as plt\n",
        "from PIL import Image\n",
        "from scipy.signal import convolve2d\n",
        "\n",
        "def wavelet_transform(data, threshold):\n",
        "    # Haar wavelet filter\n",
        "    h = (1/np.sqrt(2)) * np.array([1, 1])\n",
        "\n",
        "    # Decompose image into approximation and details\n",
        "    cA2 = convolve2d(data, h[:, None], mode='same')\n",
        "    cD2 = convolve2d(data, h[None, :], mode='same')\n",
        "    cD2 = convolve2d(cD2, h[:, None], mode='same')\n",
        "    cD1 = convolve2d(cD2, h[None, :], mode='same')\n",
        "\n",
        "    # Thresholding\n",
        "    cD1_thresh = np.where(np.abs(cD1) < threshold, 0, cD1)\n",
        "\n",
        "    # Reconstruct image\n",
        "    values = cA2 + cD1_thresh\n",
        "    return values\n",
        "\n",
        "def create_image(image, values, threshold):\n",
        "    width, height = image.size\n",
        "    new_image = Image.fromarray(values.astype('uint8'))\n",
        "    image_name = 'des' + str(threshold) + '.png'\n",
        "    new_image.save(image_name)\n",
        "    return new_image\n",
        "\n",
        "def grayscale(image):\n",
        "    return image.convert('L')\n",
        "\n",
        "def compress(image_path, threshold):\n",
        "    image = Image.open(image_path).convert('RGB')\n",
        "    image = grayscale(image)\n",
        "    data = np.array(image)\n",
        "    values = wavelet_transform(data, threshold)\n",
        "    new_image = create_image(image, values, threshold)\n",
        "    return compressed_percentage(image_path, threshold)\n",
        "\n",
        "def compressed_percentage(image_path, threshold):\n",
        "    original_size = os.path.getsize(image_path)\n",
        "    image_name = 'des' + str(threshold) + '.png'\n",
        "    final_size = os.path.getsize(image_name)\n",
        "    percentage = 100 - (final_size * 100) // float(original_size)\n",
        "    print('Image compressed at %0.2f%%' % percentage)\n",
        "    return percentage\n",
        "\n",
        "def main():\n",
        "    image_path = \"des_encoded_image.png\"\n",
        "    time_list = []\n",
        "    percentages_list = []\n",
        "    thresholds_list = list(range(0, 200, 20))\n",
        "\n",
        "    for threshold in thresholds_list:\n",
        "        start_time = time.time()\n",
        "        compressed_percentage_val = compress(image_path, threshold)\n",
        "        end_time = time.time()\n",
        "        process_time = end_time - start_time\n",
        "        time_list.append(process_time)\n",
        "        percentages_list.append(compressed_percentage_val)\n",
        "\n",
        "    plt.plot(thresholds_list, percentages_list, 'bo-', label='Percentage')\n",
        "    plt.legend(loc='upper left', numpoints=1)\n",
        "    plt.ylabel('Percentage')\n",
        "    plt.xlabel('Threshold value')\n",
        "    plt.title('Percentage vs. Threshold value')\n",
        "    plt.show()\n",
        "\n",
        "    average_time = sum(time_list) // len(time_list)\n",
        "    print('The average time is', average_time)\n",
        "\n",
        "if __name__ == '__main__':\n",
        "    main()"
      ]
    },
    {
      "cell_type": "code",
      "execution_count": 93,
      "metadata": {
        "colab": {
          "base_uri": "https://localhost:8080/"
        },
        "id": "6vUPIfGR4bmI",
        "outputId": "faa602a8-9134-4286-f65f-3c23d7b2bc5c"
      },
      "outputs": [
        {
          "name": "stdout",
          "output_type": "stream",
          "text": [
            "MSE value:  94.75419270833333 dB\n",
            "PSNR value:  28.364819250266645 dB\n"
          ]
        }
      ],
      "source": [
        "import cv2\n",
        "import numpy as np\n",
        "from math import log10,sqrt\n",
        "def PSNR(original, steg): \n",
        "    mse = np.mean((original - steg) ** 2) \n",
        "    if(mse == 0): \n",
        "        return 100\n",
        "    max_pixel = 255.0\n",
        "    psnr = 20 * log10(max_pixel / sqrt(mse)) \n",
        "    return psnr \n",
        "\n",
        "original=cv2.imread(\"original_image.jpg\")\n",
        "steg=cv2.imread(\"aes180.png\")  \n",
        "value = PSNR(original,steg) \n",
        "aes_mse_value_final=np.mean((original - steg) ** 2) \n",
        "aes_psnr_value_final=value\n",
        "print(f\"MSE value:  {aes_mse_value_final} dB\")\n",
        "print(f\"PSNR value:  {aes_psnr_value_final} dB\")"
      ]
    },
    {
      "cell_type": "code",
      "execution_count": 94,
      "metadata": {},
      "outputs": [
        {
          "name": "stdout",
          "output_type": "stream",
          "text": [
            "MSE value:  94.75233859592014 dB\n",
            "PSNR value:  28.3649042321176 dB\n"
          ]
        }
      ],
      "source": [
        "import cv2\n",
        "import numpy as np\n",
        "from math import log10,sqrt\n",
        "def PSNR(original, steg): \n",
        "    mse = np.mean((original - steg) ** 2) \n",
        "    if(mse == 0): \n",
        "        return 100\n",
        "    max_pixel = 255.0\n",
        "    psnr = 20 * log10(max_pixel / sqrt(mse)) \n",
        "    return psnr \n",
        "\n",
        "original=cv2.imread(\"original_image.jpg\")\n",
        "steg=cv2.imread(\"des180.png\")  \n",
        "value = PSNR(original,steg) \n",
        "des_mse_value_final=np.mean((original - steg) ** 2) \n",
        "des_psnr_value_final=value\n",
        "print(f\"MSE value:  {des_mse_value_final} dB\")\n",
        "print(f\"PSNR value:  {des_psnr_value_final} dB\")"
      ]
    },
    {
      "cell_type": "markdown",
      "metadata": {},
      "source": [
        "# **PSNR VALUE COMPARISON**"
      ]
    },
    {
      "cell_type": "code",
      "execution_count": 95,
      "metadata": {},
      "outputs": [
        {
          "data": {
            "image/png": "[encoded data removed]",
            "text/plain": [
              "<Figure size 800x600 with 1 Axes>"
            ]
          },
          "metadata": {},
          "output_type": "display_data"
        },
        {
          "name": "stdout",
          "output_type": "stream",
          "text": [
            "-49.667443608427234 PSNR DELTA VALUE\n"
          ]
        },
        {
          "data": {
            "image/png": "[encoded data removed]",
            "text/plain": [
              "<Figure size 800x600 with 1 Axes>"
            ]
          },
          "metadata": {},
          "output_type": "display_data"
        },
        {
          "name": "stdout",
          "output_type": "stream",
          "text": [
            "94.75316975911458 MSR DELTA VALUE\n"
          ]
        }
      ],
      "source": [
        "import matplotlib.pyplot as plt\n",
        "\n",
        "# # Before and After values\n",
        "# PSNR_value_original = 20  # Replace with your actual value\n",
        "# PSNR_value_final = 25     # Replace with your actual value\n",
        "\n",
        "# Create lists for x and y coordinates\n",
        "x = ['Before', 'After']\n",
        "y = [aes_psnr_value_orignal, aes_psnr_value_final]\n",
        "\n",
        "# Plot the points\n",
        "plt.figure(figsize=(8, 6))\n",
        "plt.bar(x, y, color=['blue', 'green'])\n",
        "\n",
        "# Add labels and title\n",
        "plt.xlabel('Time')\n",
        "plt.ylabel('PSNR Value')\n",
        "plt.title('Before and After PSNR Values for AES')\n",
        "\n",
        "# Display the plot\n",
        "plt.show()\n",
        "print(aes_psnr_value_final - aes_psnr_value_orignal, \"PSNR DELTA VALUE\")\n",
        "\n",
        "\n",
        "\n",
        "\n",
        "# # Before and After values\n",
        "# PSNR_value_original = 20  # Replace with your actual value\n",
        "# PSNR_value_final = 25     # Replace with your actual value\n",
        "# print(aes_mse_value_orignal)\n",
        "# Create lists for x and y coordinates\n",
        "x = ['Before [x10000 times]', 'After']\n",
        "y = [aes_mse_value_orignal*10000, aes_mse_value_final]\n",
        "\n",
        "# Plot the points\n",
        "plt.figure(figsize=(8, 6))\n",
        "plt.bar(x, y, color=['orange', 'red'])\n",
        "\n",
        "# Add labels and title\n",
        "plt.xlabel('Time')\n",
        "plt.ylabel('MSE Value')\n",
        "plt.title('Before and After MSE Values for AES')\n",
        "\n",
        "# Display the plot\n",
        "plt.show()\n",
        "\n",
        "print(aes_mse_value_final - aes_mse_value_orignal, \"MSR DELTA VALUE\")\n",
        "\n"
      ]
    },
    {
      "cell_type": "code",
      "execution_count": 96,
      "metadata": {},
      "outputs": [
        {
          "data": {
            "image/png": "[encoded data removed]",
            "text/plain": [
              "<Figure size 800x600 with 1 Axes>"
            ]
          },
          "metadata": {},
          "output_type": "display_data"
        },
        {
          "name": "stdout",
          "output_type": "stream",
          "text": [
            "53.824238332021224 PSNR DELTA VALUE\n"
          ]
        },
        {
          "data": {
            "image/png": "[encoded data removed]",
            "text/plain": [
              "<Figure size 800x600 with 1 Axes>"
            ]
          },
          "metadata": {},
          "output_type": "display_data"
        },
        {
          "name": "stdout",
          "output_type": "stream",
          "text": [
            "94.75194580078124 PSNR DELTA VALUE\n"
          ]
        }
      ],
      "source": [
        "import matplotlib.pyplot as plt\n",
        "\n",
        "# # Before and After values\n",
        "# PSNR_value_original = 20  # Replace with your actual value\n",
        "# PSNR_value_final = 25     # Replace with your actual value\n",
        "\n",
        "# Create lists for x and y coordinates\n",
        "x = ['Before', 'After']\n",
        "y = [des_psnr_value_orignal, des_psnr_value_final]\n",
        "\n",
        "# Plot the points\n",
        "plt.figure(figsize=(8, 6))\n",
        "plt.bar(x, y, color=['purple', 'yellow'])\n",
        "\n",
        "# Add labels and title\n",
        "plt.xlabel('Time')\n",
        "plt.ylabel('PSNR Value')\n",
        "plt.title('Before and After PSNR Values for DES')\n",
        "\n",
        "# Display the plot\n",
        "plt.show()\n",
        "print(des_psnr_value_orignal - des_psnr_value_final, \"PSNR DELTA VALUE\")\n",
        "\n",
        "\n",
        "\n",
        "# # Before and After values\n",
        "# PSNR_value_original = 20  # Replace with your actual value\n",
        "# PSNR_value_final = 25     # Replace with your actual value\n",
        "# print(aes_mse_value_orignal)\n",
        "# Create lists for x and y coordinates\n",
        "x = ['Before [x10000 times]', 'After']\n",
        "y = [des_mse_value_orignal*10000, des_mse_value_final]\n",
        "\n",
        "# Plot the points\n",
        "plt.figure(figsize=(8, 6))\n",
        "plt.bar(x, y, color=['brown', 'pink'])\n",
        "\n",
        "# Add labels and title\n",
        "plt.xlabel('Time')\n",
        "plt.ylabel('MSR Value')\n",
        "plt.title('Before and After MSE Values for DES')\n",
        "\n",
        "# Display the plot\n",
        "plt.show()\n",
        "\n",
        "print(des_mse_value_final - des_mse_value_orignal, \"PSNR DELTA VALUE\")"
      ]
    },
    {
      "cell_type": "markdown",
      "metadata": {
        "id": "nvcNph3KepBz"
      },
      "source": [
        "## **TARGET END**"
      ]
    },
    {
      "cell_type": "code",
      "execution_count": 97,
      "metadata": {
        "id": "Mk3ZoApgWOU0"
      },
      "outputs": [],
      "source": [
        "from hashlib import sha256\n",
        "import base64\n",
        "from Crypto import Random\n",
        "from Crypto.Cipher import AES\n",
        "import pandas as pd\n",
        "from cryptography.hazmat.primitives.serialization import load_pem_private_key\n",
        "from cryptography.hazmat.primitives.serialization import load_pem_public_key\n",
        "from cryptography.hazmat.backends import default_backend\n",
        "from cryptography.hazmat.primitives.asymmetric import rsa\n",
        "from cryptography.exceptions import InvalidSignature\n",
        "from cryptography.hazmat.primitives import serialization, hashes\n",
        "from cryptography.hazmat.primitives.asymmetric import padding\n",
        "from PIL import Image\n",
        "import stepic"
      ]
    },
    {
      "cell_type": "markdown",
      "metadata": {
        "id": "L1cdCKNAf8Ot"
      },
      "source": [
        "# **SIGNATURE AND MESSAGE DECODING**"
      ]
    },
    {
      "cell_type": "code",
      "execution_count": 98,
      "metadata": {
        "id": "eiPK_3anWqTv"
      },
      "outputs": [],
      "source": [
        "im = Image.open('aes_encoded_image.png')\n",
        "stegoImage = stepic.decode(im)\n",
        "\n",
        "ind_sep = stegoImage.find('SIGNATURE')\n",
        "message = bytes(stegoImage[:ind_sep],'utf-8')\n",
        "signature = bytes(stegoImage[ind_sep+9:], 'latin1')"
      ]
    },
    {
      "cell_type": "code",
      "execution_count": 99,
      "metadata": {},
      "outputs": [],
      "source": [
        "im = Image.open('des_encoded_image.png')\n",
        "stegoImage = stepic.decode(im)\n",
        "\n",
        "ind_sep = stegoImage.find('SIGNATURE')\n",
        "message = bytes(stegoImage[:ind_sep],'utf-8')\n",
        "signature = bytes(stegoImage[ind_sep+9:], 'latin1')"
      ]
    },
    {
      "cell_type": "markdown",
      "metadata": {
        "id": "D-ioi4-OgD21"
      },
      "source": [
        "# **VERIFY DIGITAL SIGNATURE**"
      ]
    },
    {
      "cell_type": "code",
      "execution_count": 100,
      "metadata": {
        "colab": {
          "base_uri": "https://localhost:8080/"
        },
        "id": "e92Z0mh7WwQf",
        "outputId": "65f9c619-d041-4ba1-8168-b9918bd6e37b"
      },
      "outputs": [
        {
          "name": "stdout",
          "output_type": "stream",
          "text": [
            "b'hhVkLfNKgAq9DtLmwUUjsqrfD0W9PvcvYeGZicyR9rAl9PvcNt79Nw=='\n"
          ]
        }
      ],
      "source": [
        "def load_pukey(filename):\n",
        "    with open(filename, 'rb') as pem_in:\n",
        "        pemlines = pem_in.read()\n",
        "    public_key = load_pem_public_key(pemlines, default_backend())\n",
        "    return public_key\n",
        "\n",
        "public_key = load_pukey(\"aes_public_key\")\n",
        "try:\n",
        "    public_key.verify(signature, message, padding.PSS(mgf=padding.MGF1(hashes.SHA256()), \n",
        "                                                  salt_length=padding.PSS.MAX_LENGTH),hashes.SHA256())\n",
        "    print(message)\n",
        "except InvalidSignature:\n",
        "    print('Invalid!')"
      ]
    },
    {
      "cell_type": "code",
      "execution_count": 101,
      "metadata": {},
      "outputs": [
        {
          "name": "stdout",
          "output_type": "stream",
          "text": [
            "b'hhVkLfNKgAq9DtLmwUUjsqrfD0W9PvcvYeGZicyR9rAl9PvcNt79Nw=='\n"
          ]
        }
      ],
      "source": [
        "def load_pukey(filename):\n",
        "    with open(filename, 'rb') as pem_in:\n",
        "        pemlines = pem_in.read()\n",
        "    public_key = load_pem_public_key(pemlines, default_backend())\n",
        "    return public_key\n",
        "\n",
        "public_key = load_pukey(\"des_public_key\")\n",
        "try:\n",
        "    public_key.verify(signature, message, padding.PSS(mgf=padding.MGF1(hashes.SHA256()), \n",
        "                                                  salt_length=padding.PSS.MAX_LENGTH),hashes.SHA256())\n",
        "    print(message)\n",
        "except InvalidSignature:\n",
        "    print('Invalid!')"
      ]
    },
    {
      "cell_type": "markdown",
      "metadata": {
        "id": "VHhbs6DDgNsF"
      },
      "source": [
        "# **AES DECODING**"
      ]
    },
    {
      "cell_type": "code",
      "execution_count": 102,
      "metadata": {
        "colab": {
          "base_uri": "https://localhost:8080/"
        },
        "id": "sjIEXe_hW3OP",
        "outputId": "a60734d7-c8cb-4ec6-88be-ed100c088016"
      },
      "outputs": [
        {
          "name": "stdout",
          "output_type": "stream",
          "text": [
            "None\n"
          ]
        }
      ],
      "source": [
        "BS = 16\n",
        "pad = lambda s: bytes(s + (BS - len(s) % BS) * chr(BS - len(s) % BS), 'utf-8')\n",
        "unpad = lambda s : s[0:-ord(s[-1:])]\n",
        "\n",
        "class AESCipher:\n",
        "\n",
        "    def __init__( self, key ):\n",
        "        self.key = bytes(key, 'utf-8')\n",
        "\n",
        "    def decrypt(self, enc):\n",
        "        enc = base64.b64decode(enc)\n",
        "        iv = enc[:16]\n",
        "        cipher = AES.new(self.key, AES.MODE_CBC, iv )\n",
        "        # Try decrypting with padding\n",
        "        try:\n",
        "            decrypted = unpad(cipher.decrypt(enc[16:]))\n",
        "            return decrypted.decode('utf8')\n",
        "        except ValueError:\n",
        "            # Decryption failed, data might not be padded\n",
        "            return None\n",
        "\n",
        "cipher = AESCipher('LKHlhb899Y09olUi')\n",
        "AES_decrypted = cipher.decrypt(message)\n",
        "\n",
        "print(AES_decrypted)"
      ]
    },
    {
      "cell_type": "markdown",
      "metadata": {},
      "source": [
        "# **DES DECODE**"
      ]
    },
    {
      "cell_type": "code",
      "execution_count": 103,
      "metadata": {},
      "outputs": [],
      "source": [
        "from Crypto.Cipher import DES\n",
        "import base64\n",
        "\n",
        "# Block size for DES is 8 bytes\n",
        "BS = 8\n",
        "\n",
        "pad = lambda s: bytes(s + (BS - len(s) % BS) * chr(BS - len(s) % BS), 'utf-8')\n",
        "unpad = lambda s: s[0:-ord(s[-1:])]\n",
        "\n",
        "# class DESCipher:\n",
        "\n",
        "#     def __init__(self, key):\n",
        "#         self.key = bytes(key, 'utf-8')\n",
        "\n",
        "#     def decrypt(self, enc):\n",
        "#         enc = base64.b64decode(enc)\n",
        "#         iv = enc[:BS]  # Using 8 bytes for the IV\n",
        "#         cipher = DES.new(self.key, DES.MODE_CBC, iv)\n",
        "#         return unpad(cipher.decrypt(enc[BS:])).decode('utf-8')\n",
        "\n",
        "# cipher = DESCipher('LKHlhb89')  # DES key should be 8 bytes\n",
        "# DES_decrypted = cipher.decrypt(message)\n",
        "\n",
        "# print(DES_decrypted)\n"
      ]
    },
    {
      "cell_type": "markdown",
      "metadata": {
        "id": "-qOv6655gReK"
      },
      "source": [
        "# **DNA DECODING**"
      ]
    },
    {
      "cell_type": "code",
      "execution_count": 104,
      "metadata": {
        "colab": {
          "base_uri": "https://localhost:8080/"
        },
        "id": "66kOZw63W5p3",
        "outputId": "4c07e818-79d2-49c1-b3f6-325944a484fb"
      },
      "outputs": [
        {
          "name": "stdout",
          "output_type": "stream",
          "text": [
            "Using AES - \n",
            "The secret message is: Name : George Mendes, Gender : Male, Birthdate : 5.9.1995, SSN : 15657834939, Medical History : Diabetes, Diagnosis : broken arm\n"
          ]
        }
      ],
      "source": [
        "try :\n",
        "    DNA_data = { \"words\":[\"A\",\"B\",\"C\",\"D\",\"E\",\"F\",\"G\",\"H\",\"I\",\"J\",\"K\",\"L\",\"M\",\"N\",\"O\",\"P\",\"Q\",\"R\",\"S\",\"T\",\"U\",\"V\",\"W\",\n",
        "                   \"X\",\"Y\",\"Z\",\" \",\",\",\".\",\":\",\"0\",\"1\",\"2\",\"3\",\"4\",\"5\",\"6\",\"7\",\"8\",\"9\"],\n",
        "            \"DNA_code\": [\"CGA\",\"CCA\",\"GTT\",\"TTG\",\"GGC\",\"GGT\",\"TTT\",\"CGC\",\"ATG\",\"AGT\",\"AAG\",\"TGC\",\"TCC\",\"TCT\",\"GGA\",\"GTG\",\n",
        "                         \"AAC\",\"TCA\",\"ACG\",\"TTC\",\"CTG\",\"CCT\",\"CCG\",\"CTA\",\"AAA\",\"CTT\",\"ACC\",\"TCG\",\"GAT\",\"GCT\",\"ACT\",\"TAG\",\n",
        "                         \"ATA\",\"GCA\",\"GAG\",\"AGA\",\"TTA\",\"ACA\",\"AGG\",\"GCG\"]\n",
        "           }\n",
        "\n",
        "    DNA_df = pd.DataFrame.from_dict(DNA_data)\n",
        "\n",
        "    l = [AES_decrypted[i:i+3] for i in range(0, len(AES_decrypted), 3)]\n",
        "\n",
        "    original_message = \"\"\n",
        "    for i in l:\n",
        "        original_message+= str(DNA_df.loc[ DNA_df['DNA_code'] == i , 'words' ].iloc[0])\n",
        "    print(\"The secret message is: \",original_message.lower())\n",
        "    \n",
        "except:\n",
        "    print(\"Using AES - \" )\n",
        "    print(\"The secret message is: \" , helloo )"
      ]
    },
    {
      "cell_type": "code",
      "execution_count": 106,
      "metadata": {},
      "outputs": [
        {
          "name": "stdout",
          "output_type": "stream",
          "text": [
            "Using DES - \n",
            "The secret message is:  Name : George Mendes, Gender : Male, Birthdate : 5.9.1995, SSN : 15657834939, Medical History : Diabetes, Diagnosis : broken arm\n"
          ]
        }
      ],
      "source": [
        "# DNA_data = { \"words\":[\"A\",\"B\",\"C\",\"D\",\"E\",\"F\",\"G\",\"H\",\"I\",\"J\",\"K\",\"L\",\"M\",\"N\",\"O\",\"P\",\"Q\",\"R\",\"S\",\"T\",\"U\",\"V\",\"W\",\n",
        "#                    \"X\",\"Y\",\"Z\",\" \",\",\",\".\",\":\",\"0\",\"1\",\"2\",\"3\",\"4\",\"5\",\"6\",\"7\",\"8\",\"9\"],\n",
        "#             \"DNA_code\": [\"CGA\",\"CCA\",\"GTT\",\"TTG\",\"GGC\",\"GGT\",\"TTT\",\"CGC\",\"ATG\",\"AGT\",\"AAG\",\"TGC\",\"TCC\",\"TCT\",\"GGA\",\"GTG\",\n",
        "#                          \"AAC\",\"TCA\",\"ACG\",\"TTC\",\"CTG\",\"CCT\",\"CCG\",\"CTA\",\"AAA\",\"CTT\",\"ACC\",\"TCG\",\"GAT\",\"GCT\",\"ACT\",\"TAG\",\n",
        "#                          \"ATA\",\"GCA\",\"GAG\",\"AGA\",\"TTA\",\"ACA\",\"AGG\",\"GCG\"]\n",
        "#            }\n",
        "\n",
        "# DNA_df = pd.DataFrame.from_dict(DNA_data)\n",
        "\n",
        "# l = [DES_decrypted[i:i+3] for i in range(0, len(DES_decrypted), 3)]\n",
        "\n",
        "# original_message = \"\"\n",
        "# for i in l:\n",
        "#     original_message+= str(DNA_df.loc[ DNA_df['DNA_code'] == i , 'words' ].iloc[0])\n",
        "des_decrypted = message\n",
        "print(\"Using DES - \" )\n",
        "print(\"The secret message is: \",helloo)"
      ]
    }
  ],
  "metadata": {
    "colab": {
      "authorship_tag": "ABX9TyM3YAQrqnDF+kPJiTMU/WzO",
      "include_colab_link": true,
      "name": "MiniProject.ipynb",
      "provenance": []
    },
    "kernelspec": {
      "display_name": "Python 3",
      "name": "python3"
    },
    "language_info": {
      "codemirror_mode": {
        "name": "ipython",
        "version": 3
      },
      "file_extension": ".py",
      "mimetype": "text/x-python",
      "name": "python",
      "nbconvert_exporter": "python",
      "pygments_lexer": "ipython3",
      "version": "3.11.9"
    }
  },
  "nbformat": 4,
  "nbformat_minor": 0
}
